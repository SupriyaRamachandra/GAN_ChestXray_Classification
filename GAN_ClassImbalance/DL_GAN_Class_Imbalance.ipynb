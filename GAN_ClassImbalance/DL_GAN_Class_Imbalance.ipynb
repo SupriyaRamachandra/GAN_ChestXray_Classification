{
 "cells": [
  {
   "cell_type": "markdown",
   "id": "3390c88c",
   "metadata": {},
   "source": [
    "# DCGAN for Handling Class Imbalance"
   ]
  },
  {
   "cell_type": "markdown",
   "id": "a3a3d1b0",
   "metadata": {},
   "source": [
    "### Import Libraries "
   ]
  },
  {
   "cell_type": "code",
   "execution_count": 1,
   "id": "2e5401d4",
   "metadata": {
    "executionInfo": {
     "elapsed": 2901,
     "status": "ok",
     "timestamp": 1620317849292,
     "user": {
      "displayName": "DL Project",
      "photoUrl": "",
      "userId": "13310980745443798156"
     },
     "user_tz": 420
    },
    "id": "2e5401d4"
   },
   "outputs": [],
   "source": [
    "from keras.layers import Input, Dense, Reshape, Flatten, Dropout\n",
    "from keras.layers import BatchNormalization, Activation, ZeroPadding2D\n",
    "from keras.layers.advanced_activations import LeakyReLU\n",
    "from keras.layers.convolutional import UpSampling2D, Conv2D, Conv2DTranspose\n",
    "from keras.models import Sequential, Model\n",
    "from keras.optimizers import Adam,SGD,RMSprop\n",
    "import pandas as pd\n",
    "import cv2\n",
    "import matplotlib.pyplot as plt\n",
    "import sys\n",
    "import numpy as np\n",
    "import tensorflow as tf"
   ]
  },
  {
   "cell_type": "markdown",
   "id": "ac23e1a1",
   "metadata": {},
   "source": [
    "### Initialization  "
   ]
  },
  {
   "cell_type": "code",
   "execution_count": 8,
   "id": "mxJOff-B0WyX",
   "metadata": {
    "colab": {
     "base_uri": "https://localhost:8080/"
    },
    "executionInfo": {
     "elapsed": 23371,
     "status": "ok",
     "timestamp": 1620318461913,
     "user": {
      "displayName": "DL Project",
      "photoUrl": "",
      "userId": "13310980745443798156"
     },
     "user_tz": 420
    },
    "id": "mxJOff-B0WyX",
    "outputId": "9ab17bb3-bf22-455a-f0b9-d18185d36fce"
   },
   "outputs": [
    {
     "name": "stdout",
     "output_type": "stream",
     "text": [
      "Mounted at /content/drive\n"
     ]
    }
   ],
   "source": [
    "from google.colab import drive\n",
    "drive.mount('/content/drive')"
   ]
  },
  {
   "cell_type": "code",
   "execution_count": null,
   "id": "M0x1Wpjs5T3C",
   "metadata": {
    "id": "M0x1Wpjs5T3C"
   },
   "outputs": [],
   "source": [
    "device_name = tf.test.gpu_device_name()\n",
    "if device_name != '/device:GPU:0':\n",
    "    raise SystemError('GPU device not found')"
   ]
  },
  {
   "cell_type": "code",
   "execution_count": null,
   "id": "9LDYGZP05Uxh",
   "metadata": {
    "colab": {
     "base_uri": "https://localhost:8080/",
     "height": 34
    },
    "executionInfo": {
     "elapsed": 340,
     "status": "ok",
     "timestamp": 1620269588152,
     "user": {
      "displayName": "DL Project",
      "photoUrl": "",
      "userId": "13310980745443798156"
     },
     "user_tz": 420
    },
    "id": "9LDYGZP05Uxh",
    "outputId": "d86c817a-8a42-4b16-f245-3c6c13453eee"
   },
   "outputs": [
    {
     "data": {
      "application/vnd.google.colaboratory.intrinsic+json": {
       "type": "string"
      },
      "text/plain": [
       "'/device:GPU:0'"
      ]
     },
     "execution_count": 21,
     "metadata": {
      "tags": []
     },
     "output_type": "execute_result"
    }
   ],
   "source": [
    "device_name"
   ]
  },
  {
   "cell_type": "code",
   "execution_count": null,
   "id": "xMQWC1y65Wmr",
   "metadata": {
    "colab": {
     "base_uri": "https://localhost:8080/"
    },
    "executionInfo": {
     "elapsed": 389,
     "status": "ok",
     "timestamp": 1620269588616,
     "user": {
      "displayName": "DL Project",
      "photoUrl": "",
      "userId": "13310980745443798156"
     },
     "user_tz": 420
    },
    "id": "xMQWC1y65Wmr",
    "outputId": "a8d4e5e2-0b21-4480-efc2-e6a171446f4d"
   },
   "outputs": [
    {
     "data": {
      "text/plain": [
       "[name: \"/device:CPU:0\"\n",
       " device_type: \"CPU\"\n",
       " memory_limit: 268435456\n",
       " locality {\n",
       " }\n",
       " incarnation: 11924215602650111082, name: \"/device:GPU:0\"\n",
       " device_type: \"GPU\"\n",
       " memory_limit: 14674281152\n",
       " locality {\n",
       "   bus_id: 1\n",
       "   links {\n",
       "   }\n",
       " }\n",
       " incarnation: 8586709905423516146\n",
       " physical_device_desc: \"device: 0, name: Tesla T4, pci bus id: 0000:00:04.0, compute capability: 7.5\"]"
      ]
     },
     "execution_count": 22,
     "metadata": {
      "tags": []
     },
     "output_type": "execute_result"
    }
   ],
   "source": [
    "from tensorflow.python.client import device_lib\n",
    "device_lib.list_local_devices()"
   ]
  },
  {
   "cell_type": "code",
   "execution_count": 13,
   "id": "7bd86468",
   "metadata": {
    "executionInfo": {
     "elapsed": 427,
     "status": "ok",
     "timestamp": 1620321701148,
     "user": {
      "displayName": "DL Project",
      "photoUrl": "",
      "userId": "13310980745443798156"
     },
     "user_tz": 420
    },
    "id": "7bd86468"
   },
   "outputs": [],
   "source": [
    "# Input shape\n",
    "img_rows = 128\n",
    "img_cols = 128\n",
    "channels = 1\n",
    "img_shape = (img_rows, img_cols, channels)\n",
    "latent_dim = 100\n",
    "#disc_optimizer = SGD(0.0001, 0.9)\n",
    "#gen_optimizer = Adam(0.0001,0.8)\n",
    "#optimizer = SGD(0.00007, 0.9)\n",
    "#optimizer = SGD(0.0002, 0.5)\n",
    "#optimizer = SGD(0.00009, 0.9)\n",
    "#optimizer = SGD(0.00001, 0.9)\n",
    "#gen_optimizer = SGD(0.00005,0.9)\n",
    "lr = 1e-4\n",
    "decay = 6e-8\n",
    "optimizer = RMSprop(lr=lr, decay=decay)"
   ]
  },
  {
   "cell_type": "markdown",
   "id": "b6210c73",
   "metadata": {},
   "source": [
    "### Generator and Discriminator "
   ]
  },
  {
   "cell_type": "code",
   "execution_count": 14,
   "id": "aaada46c",
   "metadata": {
    "executionInfo": {
     "elapsed": 516,
     "status": "ok",
     "timestamp": 1620321702533,
     "user": {
      "displayName": "DL Project",
      "photoUrl": "",
      "userId": "13310980745443798156"
     },
     "user_tz": 420
    },
    "id": "aaada46c"
   },
   "outputs": [],
   "source": [
    "def GAN_generator(latent_dim1):\n",
    "\n",
    "    model = Sequential()\n",
    "    model.add(Dense(1024 * 4 * 4, activation=\"relu\", input_dim=latent_dim1))\n",
    "    model.add(Reshape((4, 4, 1024)))\n",
    "    model.add(UpSampling2D())\n",
    "    model.add(Conv2DTranspose(512, kernel_size=3, strides=(1, 1), dilation_rate=2, padding=\"same\"))\n",
    "    model.add(BatchNormalization(momentum=0.8))\n",
    "    model.add(Activation(\"relu\"))\n",
    "    model.add(UpSampling2D())\n",
    "    model.add(Conv2DTranspose(256, kernel_size=3, strides=(1, 1), dilation_rate=2, padding=\"same\"))\n",
    "    model.add(BatchNormalization(momentum=0.8))\n",
    "    model.add(Activation(\"relu\"))\n",
    "    model.add(UpSampling2D())\n",
    "    model.add(Conv2DTranspose(128, kernel_size=3, strides=(1, 1), dilation_rate=2, padding=\"same\"))\n",
    "    model.add(BatchNormalization(momentum=0.8))\n",
    "    model.add(Activation(\"relu\"))\n",
    "    model.add(UpSampling2D())\n",
    "    model.add(Conv2DTranspose(64, kernel_size=3, strides=(1, 1), dilation_rate=2, padding=\"same\"))\n",
    "    model.add(BatchNormalization(momentum=0.8))\n",
    "    model.add(Activation(\"relu\"))\n",
    "    model.add(UpSampling2D())\n",
    "    model.add(Conv2DTranspose(128, kernel_size=3, strides=(1, 1), dilation_rate=2, padding=\"same\"))\n",
    "    model.add(BatchNormalization(momentum=0.8))\n",
    "    model.add(Activation(\"relu\"))\n",
    "    model.add(Conv2DTranspose(1, kernel_size=3, strides=(1, 1), dilation_rate=2, padding=\"same\"))\n",
    "    model.add(Activation(\"tanh\"))\n",
    "\n",
    "    model.summary()\n",
    "    noise = Input(shape=(latent_dim,))\n",
    "    img = model(noise)\n",
    "    return Model(noise, img)"
   ]
  },
  {
   "cell_type": "code",
   "execution_count": 15,
   "id": "fcc5f59b",
   "metadata": {
    "executionInfo": {
     "elapsed": 994,
     "status": "ok",
     "timestamp": 1620321703602,
     "user": {
      "displayName": "DL Project",
      "photoUrl": "",
      "userId": "13310980745443798156"
     },
     "user_tz": 420
    },
    "id": "fcc5f59b"
   },
   "outputs": [],
   "source": [
    "def GAN_discriminator(img_shape1):\n",
    "\n",
    "    model = Sequential()\n",
    "    model.add(Conv2D(32, kernel_size=3, strides=(2, 2), input_shape=img_shape1, padding=\"same\"))\n",
    "    model.add(LeakyReLU(alpha=0.2))\n",
    "    model.add(Dropout(0.25))\n",
    "    model.add(Conv2D(64, kernel_size=3, strides=(2, 2), padding=\"same\"))\n",
    "    model.add(BatchNormalization())\n",
    "    model.add(LeakyReLU(alpha=0.2))\n",
    "    model.add(Dropout(0.25))\n",
    "    model.add(Conv2D(128, kernel_size=3, strides=(2, 2), padding=\"same\"))\n",
    "    model.add(BatchNormalization())\n",
    "    model.add(LeakyReLU(alpha=0.2))\n",
    "    model.add(Dropout(0.25))\n",
    "    model.add(Conv2D(256, kernel_size=3, strides=(2, 2), padding=\"same\"))\n",
    "    model.add(BatchNormalization())\n",
    "    model.add(LeakyReLU(alpha=0.2))\n",
    "    model.add(Dropout(0.25))\n",
    "    model.add(Conv2D(256, kernel_size=3, strides=(2, 2), padding=\"same\"))\n",
    "    model.add(BatchNormalization())\n",
    "    model.add(LeakyReLU(alpha=0.2))\n",
    "    model.add(Dropout(0.25))\n",
    "    model.add(Flatten())\n",
    "    model.add(Dense(1, activation='sigmoid'))\n",
    "\n",
    "    model.summary()\n",
    "    img = Input(shape=img_shape1)\n",
    "    class_RF = model(img)\n",
    "    return Model(img, class_RF)"
   ]
  },
  {
   "cell_type": "markdown",
   "id": "245f6a30",
   "metadata": {},
   "source": [
    "### Loading the DCGAN models "
   ]
  },
  {
   "cell_type": "code",
   "execution_count": 16,
   "id": "7453b690",
   "metadata": {
    "colab": {
     "base_uri": "https://localhost:8080/"
    },
    "executionInfo": {
     "elapsed": 1647,
     "status": "ok",
     "timestamp": 1620321705144,
     "user": {
      "displayName": "DL Project",
      "photoUrl": "",
      "userId": "13310980745443798156"
     },
     "user_tz": 420
    },
    "id": "7453b690",
    "outputId": "5d81282f-4e48-4999-8bfe-83b41e9bcc77"
   },
   "outputs": [
    {
     "name": "stdout",
     "output_type": "stream",
     "text": [
      "Model: \"sequential_2\"\n",
      "_________________________________________________________________\n",
      "Layer (type)                 Output Shape              Param #   \n",
      "=================================================================\n",
      "conv2d_5 (Conv2D)            (None, 64, 64, 32)        320       \n",
      "_________________________________________________________________\n",
      "leaky_re_lu_5 (LeakyReLU)    (None, 64, 64, 32)        0         \n",
      "_________________________________________________________________\n",
      "dropout_5 (Dropout)          (None, 64, 64, 32)        0         \n",
      "_________________________________________________________________\n",
      "conv2d_6 (Conv2D)            (None, 32, 32, 64)        18496     \n",
      "_________________________________________________________________\n",
      "batch_normalization_9 (Batch (None, 32, 32, 64)        256       \n",
      "_________________________________________________________________\n",
      "leaky_re_lu_6 (LeakyReLU)    (None, 32, 32, 64)        0         \n",
      "_________________________________________________________________\n",
      "dropout_6 (Dropout)          (None, 32, 32, 64)        0         \n",
      "_________________________________________________________________\n",
      "conv2d_7 (Conv2D)            (None, 16, 16, 128)       73856     \n",
      "_________________________________________________________________\n",
      "batch_normalization_10 (Batc (None, 16, 16, 128)       512       \n",
      "_________________________________________________________________\n",
      "leaky_re_lu_7 (LeakyReLU)    (None, 16, 16, 128)       0         \n",
      "_________________________________________________________________\n",
      "dropout_7 (Dropout)          (None, 16, 16, 128)       0         \n",
      "_________________________________________________________________\n",
      "conv2d_8 (Conv2D)            (None, 8, 8, 256)         295168    \n",
      "_________________________________________________________________\n",
      "batch_normalization_11 (Batc (None, 8, 8, 256)         1024      \n",
      "_________________________________________________________________\n",
      "leaky_re_lu_8 (LeakyReLU)    (None, 8, 8, 256)         0         \n",
      "_________________________________________________________________\n",
      "dropout_8 (Dropout)          (None, 8, 8, 256)         0         \n",
      "_________________________________________________________________\n",
      "conv2d_9 (Conv2D)            (None, 4, 4, 256)         590080    \n",
      "_________________________________________________________________\n",
      "batch_normalization_12 (Batc (None, 4, 4, 256)         1024      \n",
      "_________________________________________________________________\n",
      "leaky_re_lu_9 (LeakyReLU)    (None, 4, 4, 256)         0         \n",
      "_________________________________________________________________\n",
      "dropout_9 (Dropout)          (None, 4, 4, 256)         0         \n",
      "_________________________________________________________________\n",
      "flatten_1 (Flatten)          (None, 4096)              0         \n",
      "_________________________________________________________________\n",
      "dense_2 (Dense)              (None, 1)                 4097      \n",
      "=================================================================\n",
      "Total params: 984,833\n",
      "Trainable params: 983,425\n",
      "Non-trainable params: 1,408\n",
      "_________________________________________________________________\n",
      "Model: \"sequential_3\"\n",
      "_________________________________________________________________\n",
      "Layer (type)                 Output Shape              Param #   \n",
      "=================================================================\n",
      "dense_3 (Dense)              (None, 16384)             1654784   \n",
      "_________________________________________________________________\n",
      "reshape_1 (Reshape)          (None, 4, 4, 1024)        0         \n",
      "_________________________________________________________________\n",
      "up_sampling2d_5 (UpSampling2 (None, 8, 8, 1024)        0         \n",
      "_________________________________________________________________\n",
      "conv2d_transpose_6 (Conv2DTr (None, 8, 8, 512)         4719104   \n",
      "_________________________________________________________________\n",
      "batch_normalization_13 (Batc (None, 8, 8, 512)         2048      \n",
      "_________________________________________________________________\n",
      "activation_6 (Activation)    (None, 8, 8, 512)         0         \n",
      "_________________________________________________________________\n",
      "up_sampling2d_6 (UpSampling2 (None, 16, 16, 512)       0         \n",
      "_________________________________________________________________\n",
      "conv2d_transpose_7 (Conv2DTr (None, 16, 16, 256)       1179904   \n",
      "_________________________________________________________________\n",
      "batch_normalization_14 (Batc (None, 16, 16, 256)       1024      \n",
      "_________________________________________________________________\n",
      "activation_7 (Activation)    (None, 16, 16, 256)       0         \n",
      "_________________________________________________________________\n",
      "up_sampling2d_7 (UpSampling2 (None, 32, 32, 256)       0         \n",
      "_________________________________________________________________\n",
      "conv2d_transpose_8 (Conv2DTr (None, 32, 32, 128)       295040    \n",
      "_________________________________________________________________\n",
      "batch_normalization_15 (Batc (None, 32, 32, 128)       512       \n",
      "_________________________________________________________________\n",
      "activation_8 (Activation)    (None, 32, 32, 128)       0         \n",
      "_________________________________________________________________\n",
      "up_sampling2d_8 (UpSampling2 (None, 64, 64, 128)       0         \n",
      "_________________________________________________________________\n",
      "conv2d_transpose_9 (Conv2DTr (None, 64, 64, 64)        73792     \n",
      "_________________________________________________________________\n",
      "batch_normalization_16 (Batc (None, 64, 64, 64)        256       \n",
      "_________________________________________________________________\n",
      "activation_9 (Activation)    (None, 64, 64, 64)        0         \n",
      "_________________________________________________________________\n",
      "up_sampling2d_9 (UpSampling2 (None, 128, 128, 64)      0         \n",
      "_________________________________________________________________\n",
      "conv2d_transpose_10 (Conv2DT (None, 128, 128, 128)     73856     \n",
      "_________________________________________________________________\n",
      "batch_normalization_17 (Batc (None, 128, 128, 128)     512       \n",
      "_________________________________________________________________\n",
      "activation_10 (Activation)   (None, 128, 128, 128)     0         \n",
      "_________________________________________________________________\n",
      "conv2d_transpose_11 (Conv2DT (None, 128, 128, 1)       1153      \n",
      "_________________________________________________________________\n",
      "activation_11 (Activation)   (None, 128, 128, 1)       0         \n",
      "=================================================================\n",
      "Total params: 8,001,985\n",
      "Trainable params: 7,999,809\n",
      "Non-trainable params: 2,176\n",
      "_________________________________________________________________\n"
     ]
    }
   ],
   "source": [
    "discriminator = GAN_discriminator(img_shape) \n",
    "discriminator.compile(loss='binary_crossentropy',\n",
    "                      optimizer=optimizer, metrics=['accuracy'])\n",
    "generator = GAN_generator(latent_dim) \n",
    "z = Input(shape=(latent_dim,))\n",
    "img = generator(z)\n",
    "\n",
    "discriminator.trainable = False\n",
    "valid = discriminator(img)\n",
    "\n",
    "dcgan = Model(z, valid)\n",
    "dcgan.compile(loss='binary_crossentropy', optimizer=optimizer)"
   ]
  },
  {
   "cell_type": "code",
   "execution_count": null,
   "id": "aa3190d5",
   "metadata": {},
   "outputs": [],
   "source": [
    "class PlotLosses(tf.keras.callbacks.Callback):\n",
    "    def on_train_begin(self, logs={}):\n",
    "        self.i = 0\n",
    "        self.x = []\n",
    "        self.losses = []\n",
    "        self.val_losses = []\n",
    "        \n",
    "        self.fig = plt.figure()\n",
    "        \n",
    "        self.logs = []\n",
    "\n",
    "    def on_epoch_end(self, epoch, logs={}):\n",
    "        \n",
    "        self.logs.append(logs)\n",
    "        self.x.append(self.i)\n",
    "        self.losses.append(logs.get('loss'))\n",
    "        self.val_losses.append(logs.get('val_loss'))\n",
    "        self.i += 1\n",
    "        \n",
    "        clear_output(wait=True)\n",
    "        plt.plot(self.x, self.losses, label=\"loss\")\n",
    "        plt.plot(self.x, self.val_losses, label=\"val_loss\")\n",
    "        plt.legend()\n",
    "        plt.show();\n",
    "        \n",
    "plot_losses = PlotLosses()"
   ]
  },
  {
   "cell_type": "markdown",
   "id": "fb4cb718",
   "metadata": {},
   "source": [
    "### Load NIH chest x-ray images "
   ]
  },
  {
   "cell_type": "code",
   "execution_count": 17,
   "id": "a5dfd9d2",
   "metadata": {
    "executionInfo": {
     "elapsed": 527,
     "status": "ok",
     "timestamp": 1620321705144,
     "user": {
      "displayName": "DL Project",
      "photoUrl": "",
      "userId": "13310980745443798156"
     },
     "user_tz": 420
    },
    "id": "a5dfd9d2"
   },
   "outputs": [],
   "source": [
    "def nih_xrays(epochs, batch_size):\n",
    "    (img_x, img_y) = 128, 128\n",
    "    train_path = \"/content/drive/My Drive/sample_labels.csv\"\n",
    "\n",
    "    class_name = 'Cardiomegaly' #['Atelectasis', 'No Finding', 'Cardiomegaly', 'Effusion', 'Pneumothorax']\n",
    "    num_classes = 14\n",
    "\n",
    "    # Load training data\n",
    "    dataTrain = pd.read_csv(train_path)\n",
    "    \n",
    "    x_train = []\n",
    "    # prepare label binarizer\n",
    "    from sklearn import preprocessing\n",
    "    image_path = \"/content/drive/My Drive/images/\"\n",
    "\n",
    "    count = 0\n",
    "    for index, row in dataTrain[dataTrain[\"Finding Labels\"] == class_name].iterrows():\n",
    "        #print('index,row',row[\"Image Index\"])\n",
    "        img1 = image_path + row[\"Image Index\"]\n",
    "        image1 = cv2.imread(img1)  # Image.open(img).convert('L')\n",
    "        #print('image 1',image1.shape)\n",
    "        image1 = image1[:, :, 0]\n",
    "        #print('image 1',image1.shape)\n",
    "        arr1 = cv2.resize(image1, (img_x, img_y))\n",
    "        arr1 = arr1.astype('float32')\n",
    "        arr1 /= 255.0\n",
    "        arr1 = arr1 - np.mean(arr1)\n",
    "        x_train.append(arr1)\n",
    "        count += 1\n",
    "\n",
    "    print(\"shape of x train: {}\".format(len(x_train)))\n",
    "    x_train = np.asarray(x_train)\n",
    "\n",
    "    x_train = x_train.reshape(count, img_y, img_x, 1)\n",
    "\n",
    "    valid1 = np.ones((batch_size, 1))\n",
    "    fake = np.zeros((batch_size, 1))\n",
    "\n",
    "    for epoch in range(epochs):\n",
    "        idx = np.random.randint(0, x_train.shape[0], batch_size)\n",
    "        imgs = x_train[idx]\n",
    "        #print('img shape',imgs.shape)\n",
    "\n",
    "        noise = np.random.normal(0, 1, (batch_size, latent_dim))\n",
    "        gen_imgs = generator.predict(noise)\n",
    "\n",
    "        # Train the discriminator \n",
    "        d_loss_real = discriminator.train_on_batch(imgs, valid1)\n",
    "        d_loss_fake = discriminator.train_on_batch(gen_imgs, fake)\n",
    "        d_loss = 0.5 * np.add(d_loss_real, d_loss_fake)\n",
    "        # Train the generator \n",
    "        g_loss = dcgan.train_on_batch(noise, valid1)\n",
    "\n",
    "        # Plot the progress\n",
    "        print(\"%d [D loss: %f, acc.: %.2f%%] [G loss: %f]\" % (epoch, d_loss[0], 100 * d_loss[1], g_loss))"
   ]
  },
  {
   "cell_type": "markdown",
   "id": "2c5032a2",
   "metadata": {},
   "source": [
    "### Train Generator and Discriminator "
   ]
  },
  {
   "cell_type": "code",
   "execution_count": 18,
   "id": "8fd057a3",
   "metadata": {
    "colab": {
     "base_uri": "https://localhost:8080/",
     "height": 1000
    },
    "executionInfo": {
     "elapsed": 1347634,
     "status": "ok",
     "timestamp": 1620323053303,
     "user": {
      "displayName": "DL Project",
      "photoUrl": "",
      "userId": "13310980745443798156"
     },
     "user_tz": 420
    },
    "id": "8fd057a3",
    "outputId": "659f2ed1-bbdd-4631-a574-7630d0c65437"
   },
   "outputs": [
    {
     "name": "stdout",
     "output_type": "stream",
     "text": [
      "shape of x train: 50\n",
      "0 [D loss: 1.475846, acc.: 12.50%] [G loss: 0.683983]\n",
      "1 [D loss: 0.834442, acc.: 53.12%] [G loss: 0.673194]\n",
      "2 [D loss: 0.394348, acc.: 84.38%] [G loss: 0.673075]\n",
      "3 [D loss: 0.364382, acc.: 87.50%] [G loss: 0.669769]\n",
      "4 [D loss: 0.267758, acc.: 96.88%] [G loss: 0.659262]\n",
      "5 [D loss: 0.261176, acc.: 93.75%] [G loss: 0.660052]\n",
      "6 [D loss: 0.158004, acc.: 93.75%] [G loss: 0.652004]\n",
      "7 [D loss: 0.123091, acc.: 100.00%] [G loss: 0.659834]\n",
      "8 [D loss: 0.129898, acc.: 100.00%] [G loss: 0.648985]\n",
      "9 [D loss: 0.135482, acc.: 96.88%] [G loss: 0.639365]\n",
      "10 [D loss: 0.135018, acc.: 100.00%] [G loss: 0.649477]\n",
      "11 [D loss: 0.373975, acc.: 90.62%] [G loss: 0.659248]\n",
      "12 [D loss: 0.498725, acc.: 84.38%] [G loss: 0.674089]\n",
      "13 [D loss: 0.298307, acc.: 87.50%] [G loss: 0.682181]\n",
      "14 [D loss: 0.585962, acc.: 75.00%] [G loss: 0.689590]\n",
      "15 [D loss: 0.710827, acc.: 46.88%] [G loss: 0.674973]\n",
      "16 [D loss: 0.713019, acc.: 53.12%] [G loss: 0.691309]\n",
      "17 [D loss: 0.864733, acc.: 59.38%] [G loss: 0.673882]\n",
      "18 [D loss: 0.662749, acc.: 53.12%] [G loss: 0.692293]\n",
      "19 [D loss: 0.636716, acc.: 62.50%] [G loss: 0.675799]\n",
      "20 [D loss: 0.687605, acc.: 62.50%] [G loss: 0.678569]\n",
      "21 [D loss: 0.723136, acc.: 65.62%] [G loss: 0.689981]\n",
      "22 [D loss: 0.544359, acc.: 78.12%] [G loss: 0.671234]\n",
      "23 [D loss: 0.450104, acc.: 81.25%] [G loss: 0.683808]\n",
      "24 [D loss: 0.267665, acc.: 90.62%] [G loss: 0.687947]\n",
      "25 [D loss: 0.490123, acc.: 71.88%] [G loss: 0.677383]\n",
      "26 [D loss: 0.381350, acc.: 81.25%] [G loss: 0.668623]\n",
      "27 [D loss: 0.288786, acc.: 90.62%] [G loss: 0.702827]\n",
      "28 [D loss: 0.361659, acc.: 90.62%] [G loss: 0.696883]\n",
      "29 [D loss: 0.260793, acc.: 90.62%] [G loss: 0.657674]\n",
      "30 [D loss: 0.428877, acc.: 75.00%] [G loss: 0.654900]\n",
      "31 [D loss: 0.364501, acc.: 87.50%] [G loss: 0.681512]\n",
      "32 [D loss: 0.443936, acc.: 81.25%] [G loss: 0.690242]\n",
      "33 [D loss: 0.285832, acc.: 90.62%] [G loss: 0.672472]\n",
      "34 [D loss: 0.411688, acc.: 81.25%] [G loss: 0.669397]\n",
      "35 [D loss: 0.365457, acc.: 84.38%] [G loss: 0.668030]\n",
      "36 [D loss: 0.486179, acc.: 75.00%] [G loss: 0.737343]\n",
      "37 [D loss: 0.262433, acc.: 93.75%] [G loss: 0.716879]\n",
      "38 [D loss: 0.373094, acc.: 81.25%] [G loss: 0.774724]\n",
      "39 [D loss: 0.235517, acc.: 93.75%] [G loss: 0.730625]\n",
      "40 [D loss: 0.377649, acc.: 84.38%] [G loss: 0.744808]\n",
      "41 [D loss: 0.233941, acc.: 96.88%] [G loss: 0.702752]\n",
      "42 [D loss: 0.329583, acc.: 87.50%] [G loss: 0.746975]\n",
      "43 [D loss: 0.364608, acc.: 87.50%] [G loss: 0.762597]\n",
      "44 [D loss: 0.490442, acc.: 78.12%] [G loss: 0.724448]\n",
      "45 [D loss: 0.609141, acc.: 68.75%] [G loss: 0.733885]\n",
      "46 [D loss: 0.436838, acc.: 81.25%] [G loss: 0.738511]\n",
      "47 [D loss: 0.494213, acc.: 75.00%] [G loss: 0.728419]\n",
      "48 [D loss: 0.629308, acc.: 68.75%] [G loss: 0.736322]\n",
      "49 [D loss: 0.681884, acc.: 65.62%] [G loss: 0.757069]\n",
      "50 [D loss: 0.423457, acc.: 75.00%] [G loss: 0.787773]\n",
      "51 [D loss: 0.682210, acc.: 75.00%] [G loss: 0.802262]\n",
      "52 [D loss: 0.412827, acc.: 71.88%] [G loss: 0.771596]\n",
      "53 [D loss: 0.803632, acc.: 46.88%] [G loss: 0.753936]\n",
      "54 [D loss: 0.484210, acc.: 75.00%] [G loss: 0.768988]\n",
      "55 [D loss: 0.421634, acc.: 81.25%] [G loss: 0.730805]\n",
      "56 [D loss: 0.487629, acc.: 75.00%] [G loss: 0.808475]\n",
      "57 [D loss: 0.579990, acc.: 81.25%] [G loss: 0.788288]\n",
      "58 [D loss: 0.881103, acc.: 53.12%] [G loss: 0.794292]\n",
      "59 [D loss: 0.522029, acc.: 71.88%] [G loss: 0.795122]\n",
      "60 [D loss: 0.344339, acc.: 84.38%] [G loss: 0.778640]\n",
      "61 [D loss: 0.394698, acc.: 84.38%] [G loss: 0.790278]\n",
      "62 [D loss: 0.386555, acc.: 87.50%] [G loss: 0.747882]\n",
      "63 [D loss: 0.483391, acc.: 75.00%] [G loss: 0.822251]\n",
      "64 [D loss: 0.526505, acc.: 71.88%] [G loss: 0.794101]\n",
      "65 [D loss: 0.538360, acc.: 68.75%] [G loss: 0.781069]\n",
      "66 [D loss: 0.389519, acc.: 78.12%] [G loss: 0.862753]\n",
      "67 [D loss: 0.301288, acc.: 87.50%] [G loss: 0.817558]\n",
      "68 [D loss: 0.314544, acc.: 93.75%] [G loss: 0.732712]\n",
      "69 [D loss: 0.427228, acc.: 75.00%] [G loss: 0.824874]\n",
      "70 [D loss: 0.307961, acc.: 87.50%] [G loss: 0.823771]\n",
      "71 [D loss: 0.346001, acc.: 84.38%] [G loss: 0.827793]\n",
      "72 [D loss: 0.405286, acc.: 87.50%] [G loss: 0.870629]\n",
      "73 [D loss: 0.556452, acc.: 71.88%] [G loss: 0.895545]\n",
      "74 [D loss: 0.382321, acc.: 84.38%] [G loss: 0.914552]\n",
      "75 [D loss: 0.624610, acc.: 59.38%] [G loss: 0.891405]\n",
      "76 [D loss: 0.751275, acc.: 50.00%] [G loss: 0.794915]\n",
      "77 [D loss: 0.808401, acc.: 59.38%] [G loss: 0.845266]\n",
      "78 [D loss: 0.509935, acc.: 68.75%] [G loss: 0.900162]\n",
      "79 [D loss: 0.323214, acc.: 90.62%] [G loss: 0.834808]\n",
      "80 [D loss: 0.834749, acc.: 56.25%] [G loss: 0.887425]\n",
      "81 [D loss: 0.659005, acc.: 78.12%] [G loss: 0.696327]\n",
      "82 [D loss: 0.267105, acc.: 93.75%] [G loss: 0.837285]\n",
      "83 [D loss: 0.413766, acc.: 81.25%] [G loss: 0.791302]\n",
      "84 [D loss: 0.464335, acc.: 81.25%] [G loss: 0.843441]\n",
      "85 [D loss: 0.395505, acc.: 84.38%] [G loss: 0.718670]\n",
      "86 [D loss: 0.296848, acc.: 90.62%] [G loss: 0.843656]\n",
      "87 [D loss: 0.239564, acc.: 90.62%] [G loss: 0.738732]\n",
      "88 [D loss: 0.346144, acc.: 90.62%] [G loss: 0.767874]\n",
      "89 [D loss: 0.444883, acc.: 90.62%] [G loss: 0.695803]\n",
      "90 [D loss: 0.327068, acc.: 87.50%] [G loss: 0.708455]\n",
      "91 [D loss: 0.185132, acc.: 96.88%] [G loss: 0.714481]\n",
      "92 [D loss: 0.268145, acc.: 87.50%] [G loss: 0.668253]\n",
      "93 [D loss: 0.236655, acc.: 90.62%] [G loss: 0.666975]\n",
      "94 [D loss: 0.512719, acc.: 84.38%] [G loss: 0.711559]\n",
      "95 [D loss: 0.441395, acc.: 75.00%] [G loss: 0.756386]\n",
      "96 [D loss: 0.567714, acc.: 78.12%] [G loss: 0.685900]\n",
      "97 [D loss: 0.149739, acc.: 96.88%] [G loss: 0.652551]\n",
      "98 [D loss: 0.241855, acc.: 96.88%] [G loss: 0.686886]\n",
      "99 [D loss: 0.397929, acc.: 81.25%] [G loss: 0.791159]\n"
     ]
    },
    {
     "data": {
      "text/plain": [
       "<Figure size 432x288 with 0 Axes>"
      ]
     },
     "metadata": {
      "tags": []
     },
     "output_type": "display_data"
    }
   ],
   "source": [
    "with tf.device('/gpu:0'):\n",
    "  if __name__ == '__main__':\n",
    "    nih_xrays(epochs=100, batch_size=16)\n",
    "    generator.save('GAN_gen.h5')\n",
    "    discriminator.save('GAN_dis.h5')\n",
    "\n",
    "    from sklearn import preprocessing\n",
    "\n",
    "    lb = preprocessing.LabelEncoder()  # Binarizer()\n",
    "\n",
    "    #9classes = ['Atelectasis', 'No Finding', 'Cardiomegaly', 'Effusion', 'Pneumothorax']\n",
    "    #classes =['Cardiomegaly','Emphysema','Effusion','Hernia','Nodule','Pneumothorax','Atelectasis','Pleural_Thickening','Mass','Edema','Consolidation','Infiltration','Fibrosis','Pneumonia']\n",
    "    classes =['Cardiomegaly']\n",
    "    OHE_labels = lb.fit_transform(classes)\n",
    "    #print('ohe labels',OHE_labels)\n",
    "    # at the end, loop per class, per 1000 images\n",
    "    cnt = 0\n",
    "    fig, ax = plt.subplots()\n",
    "    for label in OHE_labels:\n",
    "        for num in range(100):\n",
    "            noise1 = np.random.normal(0, 1, (16, latent_dim))  \n",
    "            #print('noise 1',noise1)\n",
    "            img = generator.predict(noise1)\n",
    "            plt.imshow(img[cnt, :, :, 0], cmap='gray')\n",
    "            fig.savefig(\"/content/drive/My Drive/GAN/Cardiomegaly/ClassCardio\" + str(label) + \"-\" + str(num) + \".png\")\n",
    "            plt.clf()\n"
   ]
  },
  {
   "cell_type": "code",
   "execution_count": null,
   "id": "7de617b8",
   "metadata": {
    "id": "7de617b8"
   },
   "outputs": [],
   "source": []
  }
 ],
 "metadata": {
  "accelerator": "GPU",
  "colab": {
   "collapsed_sections": [],
   "name": "GAN.ipynb",
   "provenance": []
  },
  "kernelspec": {
   "display_name": "Python 3",
   "language": "python",
   "name": "python3"
  },
  "language_info": {
   "codemirror_mode": {
    "name": "ipython",
    "version": 3
   },
   "file_extension": ".py",
   "mimetype": "text/x-python",
   "name": "python",
   "nbconvert_exporter": "python",
   "pygments_lexer": "ipython3",
   "version": "3.8.8"
  }
 },
 "nbformat": 4,
 "nbformat_minor": 5
}

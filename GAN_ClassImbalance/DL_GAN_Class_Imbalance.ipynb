{
 "cells": [
  {
   "cell_type": "markdown",
   "id": "afc5ca59",
   "metadata": {},
   "source": [
    "# DCGAN for Handling Class Imbalance"
   ]
  },
  {
   "cell_type": "markdown",
   "id": "c74a4aa6",
   "metadata": {},
   "source": [
    "### Import Libraries "
   ]
  },
  {
   "cell_type": "code",
   "execution_count": 1,
   "id": "2e5401d4",
   "metadata": {
    "id": "2e5401d4"
   },
   "outputs": [],
   "source": [
    "import pandas as pd\n",
    "import cv2\n",
    "import matplotlib.pyplot as plt\n",
    "import sys\n",
    "import numpy as np\n",
    "import tensorflow as tf\n",
    "from keras.layers import Input, Dense, Reshape, Flatten, Dropout\n",
    "from keras.layers import BatchNormalization, Activation, ZeroPadding2D\n",
    "from keras.layers.advanced_activations import LeakyReLU\n",
    "from keras.layers.convolutional import UpSampling2D, Conv2D, Conv2DTranspose\n",
    "from keras.models import Sequential, Model\n",
    "from keras.optimizers import Adam,SGD,RMSprop"
   ]
  },
  {
   "cell_type": "markdown",
   "id": "939bfaf6",
   "metadata": {},
   "source": [
    "### Initialization "
   ]
  },
  {
   "cell_type": "code",
   "execution_count": 2,
   "id": "mxJOff-B0WyX",
   "metadata": {
    "colab": {
     "base_uri": "https://localhost:8080/"
    },
    "id": "mxJOff-B0WyX",
    "outputId": "9ab17bb3-bf22-455a-f0b9-d18185d36fce"
   },
   "outputs": [],
   "source": [
    "root_dir = 'D:/'\n",
    "data_filename = 'sample_labels.csv'\n",
    "image_dir = 'images/'"
   ]
  },
  {
   "cell_type": "code",
   "execution_count": 3,
   "id": "M0x1Wpjs5T3C",
   "metadata": {
    "id": "M0x1Wpjs5T3C"
   },
   "outputs": [],
   "source": [
    "device_name = tf.test.gpu_device_name()\n",
    "if device_name != '/device:GPU:0':\n",
    "    raise SystemError('GPU device not found')"
   ]
  },
  {
   "cell_type": "code",
   "execution_count": 4,
   "id": "9LDYGZP05Uxh",
   "metadata": {
    "colab": {
     "base_uri": "https://localhost:8080/",
     "height": 34
    },
    "id": "9LDYGZP05Uxh",
    "outputId": "d86c817a-8a42-4b16-f245-3c6c13453eee"
   },
   "outputs": [
    {
     "data": {
      "text/plain": [
       "'/device:GPU:0'"
      ]
     },
     "execution_count": 4,
     "metadata": {},
     "output_type": "execute_result"
    }
   ],
   "source": [
    "device_name"
   ]
  },
  {
   "cell_type": "code",
   "execution_count": 5,
   "id": "xMQWC1y65Wmr",
   "metadata": {
    "colab": {
     "base_uri": "https://localhost:8080/"
    },
    "id": "xMQWC1y65Wmr",
    "outputId": "a8d4e5e2-0b21-4480-efc2-e6a171446f4d"
   },
   "outputs": [
    {
     "data": {
      "text/plain": [
       "[name: \"/device:CPU:0\"\n",
       " device_type: \"CPU\"\n",
       " memory_limit: 268435456\n",
       " locality {\n",
       " }\n",
       " incarnation: 17269488121752597051,\n",
       " name: \"/device:GPU:0\"\n",
       " device_type: \"GPU\"\n",
       " memory_limit: 1369047040\n",
       " locality {\n",
       "   bus_id: 1\n",
       "   links {\n",
       "   }\n",
       " }\n",
       " incarnation: 3946753368218758470\n",
       " physical_device_desc: \"device: 0, name: NVIDIA GeForce GTX 960M, pci bus id: 0000:01:00.0, compute capability: 5.0\"]"
      ]
     },
     "execution_count": 5,
     "metadata": {},
     "output_type": "execute_result"
    }
   ],
   "source": [
    "from tensorflow.python.client import device_lib\n",
    "device_lib.list_local_devices()"
   ]
  },
  {
   "cell_type": "code",
   "execution_count": 6,
   "id": "7bd86468",
   "metadata": {
    "id": "7bd86468"
   },
   "outputs": [],
   "source": [
    "# Input shape\n",
    "img_rows = 128\n",
    "img_cols = 128\n",
    "channels = 1\n",
    "img_shape = (img_rows, img_cols, channels)\n",
    "latent_dim = 100\n",
    "#disc_optimizer = SGD(0.0001, 0.9)\n",
    "#gen_optimizer = Adam(0.0001,0.8)\n",
    "#optimizer = SGD(0.00007, 0.9)\n",
    "#optimizer = SGD(0.0002, 0.5)\n",
    "#optimizer = SGD(0.00009, 0.9)\n",
    "#optimizer = SGD(0.00001, 0.9)\n",
    "#gen_optimizer = SGD(0.00005,0.9)\n",
    "#changed doubled lr and decay\n",
    "lr = 1e-4\n",
    "decay = 2e-8\n",
    "d_optimizer = RMSprop(lr=lr, decay=decay)\n",
    "g_optimizer = RMSprop(lr=lr, decay=decay)"
   ]
  },
  {
   "cell_type": "markdown",
   "id": "6d8c7d66",
   "metadata": {},
   "source": [
    "### Generator and Discriminator  "
   ]
  },
  {
   "cell_type": "code",
   "execution_count": 7,
   "id": "aaada46c",
   "metadata": {
    "id": "aaada46c"
   },
   "outputs": [],
   "source": [
    "def GAN_generator(latent_dim1):\n",
    "\n",
    "    model = Sequential()\n",
    "    model.add(Dense(1024 * 4 * 4, activation=\"relu\", input_dim=latent_dim1))\n",
    "    model.add(Reshape((4, 4, 1024)))\n",
    "    model.add(UpSampling2D())\n",
    "    model.add(Conv2DTranspose(512, kernel_size=3, strides=(1, 1), dilation_rate=2, padding=\"same\"))\n",
    "    model.add(BatchNormalization(momentum=0.8))\n",
    "    model.add(Activation(\"relu\"))\n",
    "    model.add(UpSampling2D())\n",
    "    model.add(Conv2DTranspose(256, kernel_size=3, strides=(1, 1), dilation_rate=2, padding=\"same\"))\n",
    "    model.add(BatchNormalization(momentum=0.8))\n",
    "    model.add(Activation(\"relu\"))\n",
    "    model.add(UpSampling2D())\n",
    "    model.add(Conv2DTranspose(128, kernel_size=3, strides=(1, 1), dilation_rate=2, padding=\"same\"))\n",
    "    model.add(BatchNormalization(momentum=0.8))\n",
    "    model.add(Activation(\"relu\"))\n",
    "    model.add(UpSampling2D())\n",
    "    model.add(Conv2DTranspose(64, kernel_size=3, strides=(1, 1), dilation_rate=2, padding=\"same\"))\n",
    "    model.add(BatchNormalization(momentum=0.8))\n",
    "    model.add(Activation(\"relu\"))\n",
    "    model.add(UpSampling2D())\n",
    "    model.add(Conv2DTranspose(128, kernel_size=3, strides=(1, 1), dilation_rate=2, padding=\"same\"))\n",
    "    model.add(BatchNormalization(momentum=0.8))\n",
    "    model.add(Activation(\"relu\"))\n",
    "    model.add(Conv2DTranspose(1, kernel_size=3, strides=(1, 1), dilation_rate=2, padding=\"same\"))\n",
    "    model.add(Activation(\"tanh\"))\n",
    "\n",
    "    model.summary()\n",
    "    noise = Input(shape=(latent_dim,))\n",
    "    img = model(noise)\n",
    "    return Model(noise, img)"
   ]
  },
  {
   "cell_type": "code",
   "execution_count": 8,
   "id": "fcc5f59b",
   "metadata": {
    "id": "fcc5f59b"
   },
   "outputs": [],
   "source": [
    "def GAN_discriminator(img_shape1):\n",
    "\n",
    "    model = Sequential()\n",
    "    model.add(Conv2D(32, kernel_size=3, strides=(2, 2), input_shape=img_shape1, padding=\"same\"))\n",
    "    model.add(LeakyReLU(alpha=0.2))\n",
    "    model.add(Dropout(0.25))\n",
    "    model.add(Conv2D(64, kernel_size=3, strides=(2, 2), padding=\"same\"))\n",
    "    model.add(BatchNormalization())\n",
    "    model.add(LeakyReLU(alpha=0.2))\n",
    "    model.add(Dropout(0.25))\n",
    "    model.add(Conv2D(128, kernel_size=3, strides=(2, 2), padding=\"same\"))\n",
    "    model.add(BatchNormalization())\n",
    "    model.add(LeakyReLU(alpha=0.2))\n",
    "    model.add(Dropout(0.25))\n",
    "    model.add(Conv2D(256, kernel_size=3, strides=(2, 2), padding=\"same\"))\n",
    "    model.add(BatchNormalization())\n",
    "    model.add(LeakyReLU(alpha=0.2))\n",
    "    model.add(Dropout(0.25))\n",
    "    model.add(Conv2D(256, kernel_size=3, strides=(2, 2), padding=\"same\"))\n",
    "    model.add(BatchNormalization())\n",
    "    model.add(LeakyReLU(alpha=0.2))\n",
    "    model.add(Dropout(0.25))\n",
    "    model.add(Flatten())\n",
    "    model.add(Dense(1, activation='sigmoid'))\n",
    "\n",
    "    model.summary()\n",
    "    img = Input(shape=img_shape1)\n",
    "    Class_ = model(img)\n",
    "    return Model(img, class_)"
   ]
  },
  {
   "cell_type": "markdown",
   "id": "01077cce",
   "metadata": {},
   "source": [
    "### Loading the DCGAN models "
   ]
  },
  {
   "cell_type": "code",
   "execution_count": 9,
   "id": "7453b690",
   "metadata": {
    "colab": {
     "base_uri": "https://localhost:8080/"
    },
    "id": "7453b690",
    "outputId": "5d81282f-4e48-4999-8bfe-83b41e9bcc77"
   },
   "outputs": [
    {
     "name": "stdout",
     "output_type": "stream",
     "text": [
      "Model: \"sequential\"\n",
      "_________________________________________________________________\n",
      "Layer (type)                 Output Shape              Param #   \n",
      "=================================================================\n",
      "conv2d (Conv2D)              (None, 64, 64, 32)        320       \n",
      "_________________________________________________________________\n",
      "leaky_re_lu (LeakyReLU)      (None, 64, 64, 32)        0         \n",
      "_________________________________________________________________\n",
      "dropout (Dropout)            (None, 64, 64, 32)        0         \n",
      "_________________________________________________________________\n",
      "conv2d_1 (Conv2D)            (None, 32, 32, 64)        18496     \n",
      "_________________________________________________________________\n",
      "batch_normalization (BatchNo (None, 32, 32, 64)        256       \n",
      "_________________________________________________________________\n",
      "leaky_re_lu_1 (LeakyReLU)    (None, 32, 32, 64)        0         \n",
      "_________________________________________________________________\n",
      "dropout_1 (Dropout)          (None, 32, 32, 64)        0         \n",
      "_________________________________________________________________\n",
      "conv2d_2 (Conv2D)            (None, 16, 16, 128)       73856     \n",
      "_________________________________________________________________\n",
      "batch_normalization_1 (Batch (None, 16, 16, 128)       512       \n",
      "_________________________________________________________________\n",
      "leaky_re_lu_2 (LeakyReLU)    (None, 16, 16, 128)       0         \n",
      "_________________________________________________________________\n",
      "dropout_2 (Dropout)          (None, 16, 16, 128)       0         \n",
      "_________________________________________________________________\n",
      "conv2d_3 (Conv2D)            (None, 8, 8, 256)         295168    \n",
      "_________________________________________________________________\n",
      "batch_normalization_2 (Batch (None, 8, 8, 256)         1024      \n",
      "_________________________________________________________________\n",
      "leaky_re_lu_3 (LeakyReLU)    (None, 8, 8, 256)         0         \n",
      "_________________________________________________________________\n",
      "dropout_3 (Dropout)          (None, 8, 8, 256)         0         \n",
      "_________________________________________________________________\n",
      "conv2d_4 (Conv2D)            (None, 4, 4, 256)         590080    \n",
      "_________________________________________________________________\n",
      "batch_normalization_3 (Batch (None, 4, 4, 256)         1024      \n",
      "_________________________________________________________________\n",
      "leaky_re_lu_4 (LeakyReLU)    (None, 4, 4, 256)         0         \n",
      "_________________________________________________________________\n",
      "dropout_4 (Dropout)          (None, 4, 4, 256)         0         \n",
      "_________________________________________________________________\n",
      "flatten (Flatten)            (None, 4096)              0         \n",
      "_________________________________________________________________\n",
      "dense (Dense)                (None, 1)                 4097      \n",
      "=================================================================\n",
      "Total params: 984,833\n",
      "Trainable params: 983,425\n",
      "Non-trainable params: 1,408\n",
      "_________________________________________________________________\n",
      "Model: \"sequential_1\"\n",
      "_________________________________________________________________\n",
      "Layer (type)                 Output Shape              Param #   \n",
      "=================================================================\n",
      "dense_1 (Dense)              (None, 16384)             1654784   \n",
      "_________________________________________________________________\n",
      "reshape (Reshape)            (None, 4, 4, 1024)        0         \n",
      "_________________________________________________________________\n",
      "up_sampling2d (UpSampling2D) (None, 8, 8, 1024)        0         \n",
      "_________________________________________________________________\n",
      "conv2d_transpose (Conv2DTran (None, 8, 8, 512)         4719104   \n",
      "_________________________________________________________________\n",
      "batch_normalization_4 (Batch (None, 8, 8, 512)         2048      \n",
      "_________________________________________________________________\n",
      "activation (Activation)      (None, 8, 8, 512)         0         \n",
      "_________________________________________________________________\n",
      "up_sampling2d_1 (UpSampling2 (None, 16, 16, 512)       0         \n",
      "_________________________________________________________________\n",
      "conv2d_transpose_1 (Conv2DTr (None, 16, 16, 256)       1179904   \n",
      "_________________________________________________________________\n",
      "batch_normalization_5 (Batch (None, 16, 16, 256)       1024      \n",
      "_________________________________________________________________\n",
      "activation_1 (Activation)    (None, 16, 16, 256)       0         \n",
      "_________________________________________________________________\n",
      "up_sampling2d_2 (UpSampling2 (None, 32, 32, 256)       0         \n",
      "_________________________________________________________________\n",
      "conv2d_transpose_2 (Conv2DTr (None, 32, 32, 128)       295040    \n",
      "_________________________________________________________________\n",
      "batch_normalization_6 (Batch (None, 32, 32, 128)       512       \n",
      "_________________________________________________________________\n",
      "activation_2 (Activation)    (None, 32, 32, 128)       0         \n",
      "_________________________________________________________________\n",
      "up_sampling2d_3 (UpSampling2 (None, 64, 64, 128)       0         \n",
      "_________________________________________________________________\n",
      "conv2d_transpose_3 (Conv2DTr (None, 64, 64, 64)        73792     \n",
      "_________________________________________________________________\n",
      "batch_normalization_7 (Batch (None, 64, 64, 64)        256       \n",
      "_________________________________________________________________\n",
      "activation_3 (Activation)    (None, 64, 64, 64)        0         \n",
      "_________________________________________________________________\n",
      "up_sampling2d_4 (UpSampling2 (None, 128, 128, 64)      0         \n",
      "_________________________________________________________________\n",
      "conv2d_transpose_4 (Conv2DTr (None, 128, 128, 128)     73856     \n",
      "_________________________________________________________________\n",
      "batch_normalization_8 (Batch (None, 128, 128, 128)     512       \n",
      "_________________________________________________________________\n",
      "activation_4 (Activation)    (None, 128, 128, 128)     0         \n",
      "_________________________________________________________________\n",
      "conv2d_transpose_5 (Conv2DTr (None, 128, 128, 1)       1153      \n",
      "_________________________________________________________________\n",
      "activation_5 (Activation)    (None, 128, 128, 1)       0         \n",
      "=================================================================\n",
      "Total params: 8,001,985\n",
      "Trainable params: 7,999,809\n",
      "Non-trainable params: 2,176\n",
      "_________________________________________________________________\n"
     ]
    }
   ],
   "source": [
    "discriminator = GAN_discriminator(img_shape) \n",
    "discriminator.compile(loss='binary_crossentropy',\n",
    "                      optimizer=d_optimizer, metrics=['accuracy'])\n",
    "\n",
    "generator = GAN_generator(latent_dim) \n",
    "\n",
    "z = Input(shape=(latent_dim,))\n",
    "img = generator(z)\n",
    "\n",
    "discriminator.trainable = False\n",
    "valid = discriminator(img)\n",
    "\n",
    "dcgan = Model(z, valid)\n",
    "dcgan.compile(loss='binary_crossentropy', optimizer=g_optimizer)\n"
   ]
  },
  {
   "cell_type": "code",
   "execution_count": 10,
   "id": "89ffdea1",
   "metadata": {},
   "outputs": [],
   "source": [
    "class PlotLosses(tf.keras.callbacks.Callback):\n",
    "    def on_train_begin(self, logs={}):\n",
    "        self.i = 0\n",
    "        self.x = []\n",
    "        self.losses = []\n",
    "        self.val_losses = []\n",
    "        \n",
    "        self.fig = plt.figure()\n",
    "        \n",
    "        self.logs = []\n",
    "\n",
    "    def on_epoch_end(self, epoch, logs={}):\n",
    "        \n",
    "        self.logs.append(logs)\n",
    "        self.x.append(self.i)\n",
    "        self.losses.append(logs.get('loss'))\n",
    "        self.val_losses.append(logs.get('val_loss'))\n",
    "        self.i += 1\n",
    "        \n",
    "        clear_output(wait=True)\n",
    "        plt.plot(self.x, self.losses, label=\"loss\")\n",
    "        plt.plot(self.x, self.val_losses, label=\"val_loss\")\n",
    "        plt.legend()\n",
    "        plt.show();\n",
    "        \n",
    "plot_losses = PlotLosses()"
   ]
  },
  {
   "cell_type": "markdown",
   "id": "de03b397",
   "metadata": {},
   "source": [
    "### Load NIH chest x-ray images "
   ]
  },
  {
   "cell_type": "code",
   "execution_count": 11,
   "id": "a5dfd9d2",
   "metadata": {
    "id": "a5dfd9d2"
   },
   "outputs": [],
   "source": [
    "def nih_xrays(epochs, batch_size):\n",
    "    (img_x, img_y) = 128, 128\n",
    "    train_path = root_dir+data_filename\n",
    "\n",
    "    class_name = 'Fibrosis' #['Atelectasis', 'No Finding', 'Cardiomegaly', 'Effusion', 'Pneumothorax']\n",
    "    num_classes = 14\n",
    "    dataTrain = pd.read_csv(train_path)\n",
    "    \n",
    "    x_train = []\n",
    "    # prepare label binarizer\n",
    "    from sklearn import preprocessing\n",
    "    image_path = root_dir+image_dir\n",
    "\n",
    "    count = 0\n",
    "    for index, row in dataTrain[dataTrain[\"Finding Labels\"] == class_name].iterrows():\n",
    "        #print('index,row',row[\"Image Index\"])\n",
    "        img1 = image_path + row[\"Image Index\"]\n",
    "        image1 = cv2.imread(img1)  # Image.open(img).convert('L')\n",
    "        #print('image 1',image1.shape)\n",
    "        image1 = image1[:, :, 0]\n",
    "        #print('image 1',image1.shape)\n",
    "        arr1 = cv2.resize(image1, (img_x, img_y))\n",
    "        arr1 = arr1.astype('float32')\n",
    "        arr1 /= 255.0\n",
    "        arr1 = arr1 - np.mean(arr1)\n",
    "        x_train.append(arr1)\n",
    "        count += 1\n",
    "\n",
    "    print(\"shape of x train: {}\".format(len(x_train)))\n",
    "    x_train = np.asarray(x_train)\n",
    "\n",
    "    x_train = x_train.reshape(count, img_y, img_x, 1)\n",
    "\n",
    "    valid1 = np.ones((batch_size, 1))\n",
    "    fake = np.zeros((batch_size, 1))\n",
    "\n",
    "    for epoch in range(epochs):\n",
    "        idx = np.random.randint(0, x_train.shape[0], batch_size)\n",
    "        imgs = x_train[idx]\n",
    "        #print('img shape',imgs.shape)\n",
    "\n",
    "        noise = np.random.normal(0, 1, (batch_size, latent_dim))\n",
    "        gen_imgs = generator.predict(noise)\n",
    "\n",
    "        # Train the discriminator \n",
    "        d_loss_real = discriminator.train_on_batch(imgs, valid1)\n",
    "        d_loss_fake = discriminator.train_on_batch(gen_imgs, fake)\n",
    "        d_loss = 0.5 * np.add(d_loss_real, d_loss_fake)\n",
    "        # Train the generator \n",
    "        g_loss = dcgan.train_on_batch(noise, valid1)\n",
    "\n",
    "        # Plot the progress\n",
    "        print(\"%d [D loss: %f, acc.: %.2f%%] [G loss: %f]\" % (epoch, d_loss[0], 100 * d_loss[1], g_loss))"
   ]
  },
  {
   "cell_type": "markdown",
   "id": "764298fa",
   "metadata": {},
   "source": [
    "### Train Generator and Discriminator "
   ]
  },
  {
   "cell_type": "code",
   "execution_count": 12,
   "id": "8fd057a3",
   "metadata": {
    "colab": {
     "base_uri": "https://localhost:8080/",
     "height": 1000
    },
    "id": "8fd057a3",
    "outputId": "659f2ed1-bbdd-4631-a574-7630d0c65437",
    "scrolled": true
   },
   "outputs": [
    {
     "name": "stdout",
     "output_type": "stream",
     "text": [
      "shape of x train: 727\n",
      "0 [D loss: 0.895362, acc.: 43.75%] [G loss: 0.707890]\n",
      "1 [D loss: 0.692845, acc.: 65.62%] [G loss: 0.691535]\n",
      "2 [D loss: 0.542892, acc.: 71.88%] [G loss: 0.698175]\n",
      "3 [D loss: 0.510967, acc.: 75.00%] [G loss: 0.702067]\n",
      "4 [D loss: 0.212927, acc.: 96.88%] [G loss: 0.698601]\n",
      "5 [D loss: 0.281558, acc.: 93.75%] [G loss: 0.683465]\n",
      "6 [D loss: 0.179111, acc.: 96.88%] [G loss: 0.683813]\n",
      "7 [D loss: 0.248005, acc.: 96.88%] [G loss: 0.684265]\n",
      "8 [D loss: 0.166904, acc.: 100.00%] [G loss: 0.681060]\n",
      "9 [D loss: 0.327075, acc.: 90.62%] [G loss: 0.683312]\n",
      "10 [D loss: 0.281732, acc.: 96.88%] [G loss: 0.698775]\n",
      "11 [D loss: 0.369046, acc.: 81.25%] [G loss: 0.698154]\n",
      "12 [D loss: 0.380799, acc.: 81.25%] [G loss: 0.699547]\n",
      "13 [D loss: 0.341439, acc.: 90.62%] [G loss: 0.706923]\n",
      "14 [D loss: 0.299694, acc.: 87.50%] [G loss: 0.690020]\n",
      "15 [D loss: 0.556298, acc.: 71.88%] [G loss: 0.714306]\n",
      "16 [D loss: 0.296061, acc.: 90.62%] [G loss: 0.703860]\n",
      "17 [D loss: 0.590851, acc.: 78.12%] [G loss: 0.717989]\n",
      "18 [D loss: 0.405212, acc.: 81.25%] [G loss: 0.706704]\n",
      "19 [D loss: 0.789667, acc.: 50.00%] [G loss: 0.714792]\n",
      "20 [D loss: 0.708561, acc.: 65.62%] [G loss: 0.755651]\n",
      "21 [D loss: 0.938567, acc.: 37.50%] [G loss: 0.731479]\n",
      "22 [D loss: 1.199626, acc.: 34.38%] [G loss: 0.736296]\n",
      "23 [D loss: 0.591793, acc.: 71.88%] [G loss: 0.747844]\n",
      "24 [D loss: 0.670437, acc.: 62.50%] [G loss: 0.772791]\n",
      "25 [D loss: 0.820877, acc.: 68.75%] [G loss: 0.795936]\n",
      "26 [D loss: 0.783979, acc.: 62.50%] [G loss: 0.791115]\n",
      "27 [D loss: 0.844892, acc.: 43.75%] [G loss: 0.791680]\n",
      "28 [D loss: 0.573265, acc.: 65.62%] [G loss: 0.761421]\n",
      "29 [D loss: 0.562144, acc.: 65.62%] [G loss: 0.786066]\n",
      "30 [D loss: 0.895275, acc.: 56.25%] [G loss: 0.777813]\n",
      "31 [D loss: 0.549948, acc.: 71.88%] [G loss: 0.782158]\n",
      "32 [D loss: 0.755933, acc.: 53.12%] [G loss: 0.812328]\n",
      "33 [D loss: 0.839662, acc.: 50.00%] [G loss: 0.820755]\n",
      "34 [D loss: 0.569543, acc.: 68.75%] [G loss: 0.810952]\n",
      "35 [D loss: 0.580024, acc.: 68.75%] [G loss: 0.810078]\n",
      "36 [D loss: 0.482540, acc.: 81.25%] [G loss: 0.861059]\n",
      "37 [D loss: 0.384178, acc.: 84.38%] [G loss: 0.836922]\n",
      "38 [D loss: 0.822129, acc.: 43.75%] [G loss: 0.859947]\n",
      "39 [D loss: 0.662071, acc.: 59.38%] [G loss: 0.877439]\n",
      "40 [D loss: 0.555365, acc.: 78.12%] [G loss: 0.868733]\n",
      "41 [D loss: 0.656706, acc.: 75.00%] [G loss: 0.843197]\n",
      "42 [D loss: 0.544755, acc.: 68.75%] [G loss: 0.873325]\n",
      "43 [D loss: 0.550699, acc.: 75.00%] [G loss: 0.903975]\n",
      "44 [D loss: 0.646373, acc.: 65.62%] [G loss: 0.870526]\n",
      "45 [D loss: 0.510811, acc.: 78.12%] [G loss: 0.912933]\n",
      "46 [D loss: 0.639300, acc.: 65.62%] [G loss: 0.903127]\n",
      "47 [D loss: 0.557512, acc.: 75.00%] [G loss: 0.898796]\n",
      "48 [D loss: 0.388482, acc.: 81.25%] [G loss: 0.921481]\n",
      "49 [D loss: 0.456785, acc.: 84.38%] [G loss: 0.914136]\n",
      "50 [D loss: 0.583997, acc.: 59.38%] [G loss: 0.858508]\n",
      "51 [D loss: 0.888288, acc.: 56.25%] [G loss: 0.923918]\n",
      "52 [D loss: 0.605159, acc.: 71.88%] [G loss: 0.943945]\n",
      "53 [D loss: 0.721031, acc.: 62.50%] [G loss: 0.921577]\n",
      "54 [D loss: 0.545037, acc.: 78.12%] [G loss: 0.882752]\n",
      "55 [D loss: 0.470308, acc.: 84.38%] [G loss: 0.906327]\n",
      "56 [D loss: 0.652954, acc.: 59.38%] [G loss: 0.966974]\n",
      "57 [D loss: 0.617876, acc.: 65.62%] [G loss: 0.943331]\n",
      "58 [D loss: 0.446145, acc.: 78.12%] [G loss: 0.934079]\n",
      "59 [D loss: 0.416090, acc.: 81.25%] [G loss: 0.928003]\n",
      "60 [D loss: 0.618996, acc.: 75.00%] [G loss: 0.943932]\n",
      "61 [D loss: 0.469052, acc.: 84.38%] [G loss: 1.039294]\n",
      "62 [D loss: 0.633091, acc.: 68.75%] [G loss: 1.011273]\n",
      "63 [D loss: 0.592270, acc.: 68.75%] [G loss: 1.043688]\n",
      "64 [D loss: 0.574358, acc.: 75.00%] [G loss: 0.921647]\n",
      "65 [D loss: 0.506230, acc.: 75.00%] [G loss: 0.959356]\n",
      "66 [D loss: 0.548542, acc.: 71.88%] [G loss: 1.021572]\n",
      "67 [D loss: 0.590072, acc.: 62.50%] [G loss: 0.985177]\n",
      "68 [D loss: 0.577078, acc.: 71.88%] [G loss: 1.000493]\n",
      "69 [D loss: 0.315733, acc.: 93.75%] [G loss: 1.081104]\n",
      "70 [D loss: 0.397044, acc.: 81.25%] [G loss: 1.075388]\n",
      "71 [D loss: 0.317948, acc.: 90.62%] [G loss: 0.949606]\n",
      "72 [D loss: 0.388241, acc.: 90.62%] [G loss: 1.045115]\n",
      "73 [D loss: 0.457563, acc.: 87.50%] [G loss: 0.976295]\n",
      "74 [D loss: 0.339773, acc.: 84.38%] [G loss: 1.036536]\n",
      "75 [D loss: 0.513249, acc.: 84.38%] [G loss: 0.973514]\n",
      "76 [D loss: 0.301040, acc.: 90.62%] [G loss: 0.986985]\n",
      "77 [D loss: 0.473531, acc.: 78.12%] [G loss: 1.044125]\n",
      "78 [D loss: 0.455117, acc.: 71.88%] [G loss: 1.065961]\n",
      "79 [D loss: 0.418808, acc.: 87.50%] [G loss: 1.077328]\n",
      "80 [D loss: 0.523396, acc.: 71.88%] [G loss: 1.104739]\n",
      "81 [D loss: 0.707734, acc.: 71.88%] [G loss: 1.063661]\n",
      "82 [D loss: 0.494501, acc.: 75.00%] [G loss: 1.058084]\n",
      "83 [D loss: 0.488168, acc.: 71.88%] [G loss: 1.028344]\n",
      "84 [D loss: 0.384834, acc.: 81.25%] [G loss: 0.924361]\n",
      "85 [D loss: 0.772995, acc.: 75.00%] [G loss: 0.909828]\n",
      "86 [D loss: 0.371619, acc.: 87.50%] [G loss: 0.921317]\n",
      "87 [D loss: 0.236677, acc.: 93.75%] [G loss: 0.914772]\n",
      "88 [D loss: 0.302740, acc.: 93.75%] [G loss: 0.861831]\n",
      "89 [D loss: 0.234316, acc.: 90.62%] [G loss: 1.027032]\n",
      "90 [D loss: 0.404427, acc.: 84.38%] [G loss: 0.932290]\n",
      "91 [D loss: 0.171256, acc.: 96.88%] [G loss: 0.815464]\n",
      "92 [D loss: 0.326523, acc.: 87.50%] [G loss: 0.842718]\n",
      "93 [D loss: 0.421037, acc.: 75.00%] [G loss: 0.920188]\n",
      "94 [D loss: 0.229640, acc.: 87.50%] [G loss: 0.913647]\n",
      "95 [D loss: 0.295315, acc.: 93.75%] [G loss: 0.847762]\n",
      "96 [D loss: 0.210783, acc.: 90.62%] [G loss: 0.971200]\n",
      "97 [D loss: 0.446054, acc.: 87.50%] [G loss: 0.875674]\n",
      "98 [D loss: 0.189832, acc.: 93.75%] [G loss: 0.965892]\n",
      "99 [D loss: 0.179714, acc.: 96.88%] [G loss: 0.781727]\n"
     ]
    },
    {
     "ename": "FileNotFoundError",
     "evalue": "[Errno 2] No such file or directory: '/home/kimberly/deep_learning/datasets/NIH_chest_xrays/GAN/Fibrosis/ClassFib0-0.png'",
     "output_type": "error",
     "traceback": [
      "\u001b[0;31m---------------------------------------------------------------------------\u001b[0m",
      "\u001b[0;31mFileNotFoundError\u001b[0m                         Traceback (most recent call last)",
      "\u001b[0;32m<ipython-input-12-64ba9ea8c812>\u001b[0m in \u001b[0;36m<module>\u001b[0;34m\u001b[0m\n\u001b[1;32m     24\u001b[0m             \u001b[0mimg\u001b[0m \u001b[0;34m=\u001b[0m \u001b[0mgenerator\u001b[0m\u001b[0;34m.\u001b[0m\u001b[0mpredict\u001b[0m\u001b[0;34m(\u001b[0m\u001b[0mnoise1\u001b[0m\u001b[0;34m)\u001b[0m\u001b[0;34m\u001b[0m\u001b[0;34m\u001b[0m\u001b[0m\n\u001b[1;32m     25\u001b[0m             \u001b[0mplt\u001b[0m\u001b[0;34m.\u001b[0m\u001b[0mimshow\u001b[0m\u001b[0;34m(\u001b[0m\u001b[0mimg\u001b[0m\u001b[0;34m[\u001b[0m\u001b[0mcnt\u001b[0m\u001b[0;34m,\u001b[0m \u001b[0;34m:\u001b[0m\u001b[0;34m,\u001b[0m \u001b[0;34m:\u001b[0m\u001b[0;34m,\u001b[0m \u001b[0;36m0\u001b[0m\u001b[0;34m]\u001b[0m\u001b[0;34m,\u001b[0m \u001b[0mcmap\u001b[0m\u001b[0;34m=\u001b[0m\u001b[0;34m'gray'\u001b[0m\u001b[0;34m)\u001b[0m\u001b[0;34m\u001b[0m\u001b[0;34m\u001b[0m\u001b[0m\n\u001b[0;32m---> 26\u001b[0;31m             \u001b[0mfig\u001b[0m\u001b[0;34m.\u001b[0m\u001b[0msavefig\u001b[0m\u001b[0;34m(\u001b[0m\u001b[0mroot_dir\u001b[0m\u001b[0;34m+\u001b[0m\u001b[0;34m\"GAN/Fibrosis/ClassFib\"\u001b[0m \u001b[0;34m+\u001b[0m \u001b[0mstr\u001b[0m\u001b[0;34m(\u001b[0m\u001b[0mlabel\u001b[0m\u001b[0;34m)\u001b[0m \u001b[0;34m+\u001b[0m \u001b[0;34m\"-\"\u001b[0m \u001b[0;34m+\u001b[0m \u001b[0mstr\u001b[0m\u001b[0;34m(\u001b[0m\u001b[0mnum\u001b[0m\u001b[0;34m)\u001b[0m \u001b[0;34m+\u001b[0m \u001b[0;34m\".png\"\u001b[0m\u001b[0;34m)\u001b[0m\u001b[0;34m\u001b[0m\u001b[0;34m\u001b[0m\u001b[0m\n\u001b[0m\u001b[1;32m     27\u001b[0m             \u001b[0mplt\u001b[0m\u001b[0;34m.\u001b[0m\u001b[0mclf\u001b[0m\u001b[0;34m(\u001b[0m\u001b[0;34m)\u001b[0m\u001b[0;34m\u001b[0m\u001b[0;34m\u001b[0m\u001b[0m\n",
      "\u001b[0;32m~/anaconda3/envs/tensorflow_gpu_env/lib/python3.8/site-packages/matplotlib/figure.py\u001b[0m in \u001b[0;36msavefig\u001b[0;34m(self, fname, transparent, **kwargs)\u001b[0m\n\u001b[1;32m   2309\u001b[0m                 \u001b[0mpatch\u001b[0m\u001b[0;34m.\u001b[0m\u001b[0mset_edgecolor\u001b[0m\u001b[0;34m(\u001b[0m\u001b[0;34m'none'\u001b[0m\u001b[0;34m)\u001b[0m\u001b[0;34m\u001b[0m\u001b[0;34m\u001b[0m\u001b[0m\n\u001b[1;32m   2310\u001b[0m \u001b[0;34m\u001b[0m\u001b[0m\n\u001b[0;32m-> 2311\u001b[0;31m         \u001b[0mself\u001b[0m\u001b[0;34m.\u001b[0m\u001b[0mcanvas\u001b[0m\u001b[0;34m.\u001b[0m\u001b[0mprint_figure\u001b[0m\u001b[0;34m(\u001b[0m\u001b[0mfname\u001b[0m\u001b[0;34m,\u001b[0m \u001b[0;34m**\u001b[0m\u001b[0mkwargs\u001b[0m\u001b[0;34m)\u001b[0m\u001b[0;34m\u001b[0m\u001b[0;34m\u001b[0m\u001b[0m\n\u001b[0m\u001b[1;32m   2312\u001b[0m \u001b[0;34m\u001b[0m\u001b[0m\n\u001b[1;32m   2313\u001b[0m         \u001b[0;32mif\u001b[0m \u001b[0mtransparent\u001b[0m\u001b[0;34m:\u001b[0m\u001b[0;34m\u001b[0m\u001b[0;34m\u001b[0m\u001b[0m\n",
      "\u001b[0;32m~/anaconda3/envs/tensorflow_gpu_env/lib/python3.8/site-packages/matplotlib/backend_bases.py\u001b[0m in \u001b[0;36mprint_figure\u001b[0;34m(self, filename, dpi, facecolor, edgecolor, orientation, format, bbox_inches, pad_inches, bbox_extra_artists, backend, **kwargs)\u001b[0m\n\u001b[1;32m   2208\u001b[0m \u001b[0;34m\u001b[0m\u001b[0m\n\u001b[1;32m   2209\u001b[0m             \u001b[0;32mtry\u001b[0m\u001b[0;34m:\u001b[0m\u001b[0;34m\u001b[0m\u001b[0;34m\u001b[0m\u001b[0m\n\u001b[0;32m-> 2210\u001b[0;31m                 result = print_method(\n\u001b[0m\u001b[1;32m   2211\u001b[0m                     \u001b[0mfilename\u001b[0m\u001b[0;34m,\u001b[0m\u001b[0;34m\u001b[0m\u001b[0;34m\u001b[0m\u001b[0m\n\u001b[1;32m   2212\u001b[0m                     \u001b[0mdpi\u001b[0m\u001b[0;34m=\u001b[0m\u001b[0mdpi\u001b[0m\u001b[0;34m,\u001b[0m\u001b[0;34m\u001b[0m\u001b[0;34m\u001b[0m\u001b[0m\n",
      "\u001b[0;32m~/anaconda3/envs/tensorflow_gpu_env/lib/python3.8/site-packages/matplotlib/backend_bases.py\u001b[0m in \u001b[0;36mwrapper\u001b[0;34m(*args, **kwargs)\u001b[0m\n\u001b[1;32m   1637\u001b[0m             \u001b[0mkwargs\u001b[0m\u001b[0;34m.\u001b[0m\u001b[0mpop\u001b[0m\u001b[0;34m(\u001b[0m\u001b[0marg\u001b[0m\u001b[0;34m)\u001b[0m\u001b[0;34m\u001b[0m\u001b[0;34m\u001b[0m\u001b[0m\n\u001b[1;32m   1638\u001b[0m \u001b[0;34m\u001b[0m\u001b[0m\n\u001b[0;32m-> 1639\u001b[0;31m         \u001b[0;32mreturn\u001b[0m \u001b[0mfunc\u001b[0m\u001b[0;34m(\u001b[0m\u001b[0;34m*\u001b[0m\u001b[0margs\u001b[0m\u001b[0;34m,\u001b[0m \u001b[0;34m**\u001b[0m\u001b[0mkwargs\u001b[0m\u001b[0;34m)\u001b[0m\u001b[0;34m\u001b[0m\u001b[0;34m\u001b[0m\u001b[0m\n\u001b[0m\u001b[1;32m   1640\u001b[0m \u001b[0;34m\u001b[0m\u001b[0m\n\u001b[1;32m   1641\u001b[0m     \u001b[0;32mreturn\u001b[0m \u001b[0mwrapper\u001b[0m\u001b[0;34m\u001b[0m\u001b[0;34m\u001b[0m\u001b[0m\n",
      "\u001b[0;32m~/anaconda3/envs/tensorflow_gpu_env/lib/python3.8/site-packages/matplotlib/backends/backend_agg.py\u001b[0m in \u001b[0;36mprint_png\u001b[0;34m(self, filename_or_obj, metadata, pil_kwargs, *args)\u001b[0m\n\u001b[1;32m    508\u001b[0m         \"\"\"\n\u001b[1;32m    509\u001b[0m         \u001b[0mFigureCanvasAgg\u001b[0m\u001b[0;34m.\u001b[0m\u001b[0mdraw\u001b[0m\u001b[0;34m(\u001b[0m\u001b[0mself\u001b[0m\u001b[0;34m)\u001b[0m\u001b[0;34m\u001b[0m\u001b[0;34m\u001b[0m\u001b[0m\n\u001b[0;32m--> 510\u001b[0;31m         mpl.image.imsave(\n\u001b[0m\u001b[1;32m    511\u001b[0m             \u001b[0mfilename_or_obj\u001b[0m\u001b[0;34m,\u001b[0m \u001b[0mself\u001b[0m\u001b[0;34m.\u001b[0m\u001b[0mbuffer_rgba\u001b[0m\u001b[0;34m(\u001b[0m\u001b[0;34m)\u001b[0m\u001b[0;34m,\u001b[0m \u001b[0mformat\u001b[0m\u001b[0;34m=\u001b[0m\u001b[0;34m\"png\"\u001b[0m\u001b[0;34m,\u001b[0m \u001b[0morigin\u001b[0m\u001b[0;34m=\u001b[0m\u001b[0;34m\"upper\"\u001b[0m\u001b[0;34m,\u001b[0m\u001b[0;34m\u001b[0m\u001b[0;34m\u001b[0m\u001b[0m\n\u001b[1;32m    512\u001b[0m             dpi=self.figure.dpi, metadata=metadata, pil_kwargs=pil_kwargs)\n",
      "\u001b[0;32m~/anaconda3/envs/tensorflow_gpu_env/lib/python3.8/site-packages/matplotlib/image.py\u001b[0m in \u001b[0;36mimsave\u001b[0;34m(fname, arr, vmin, vmax, cmap, format, origin, dpi, metadata, pil_kwargs)\u001b[0m\n\u001b[1;32m   1609\u001b[0m         \u001b[0mpil_kwargs\u001b[0m\u001b[0;34m.\u001b[0m\u001b[0msetdefault\u001b[0m\u001b[0;34m(\u001b[0m\u001b[0;34m\"format\"\u001b[0m\u001b[0;34m,\u001b[0m \u001b[0mformat\u001b[0m\u001b[0;34m)\u001b[0m\u001b[0;34m\u001b[0m\u001b[0;34m\u001b[0m\u001b[0m\n\u001b[1;32m   1610\u001b[0m         \u001b[0mpil_kwargs\u001b[0m\u001b[0;34m.\u001b[0m\u001b[0msetdefault\u001b[0m\u001b[0;34m(\u001b[0m\u001b[0;34m\"dpi\"\u001b[0m\u001b[0;34m,\u001b[0m \u001b[0;34m(\u001b[0m\u001b[0mdpi\u001b[0m\u001b[0;34m,\u001b[0m \u001b[0mdpi\u001b[0m\u001b[0;34m)\u001b[0m\u001b[0;34m)\u001b[0m\u001b[0;34m\u001b[0m\u001b[0;34m\u001b[0m\u001b[0m\n\u001b[0;32m-> 1611\u001b[0;31m         \u001b[0mimage\u001b[0m\u001b[0;34m.\u001b[0m\u001b[0msave\u001b[0m\u001b[0;34m(\u001b[0m\u001b[0mfname\u001b[0m\u001b[0;34m,\u001b[0m \u001b[0;34m**\u001b[0m\u001b[0mpil_kwargs\u001b[0m\u001b[0;34m)\u001b[0m\u001b[0;34m\u001b[0m\u001b[0;34m\u001b[0m\u001b[0m\n\u001b[0m\u001b[1;32m   1612\u001b[0m \u001b[0;34m\u001b[0m\u001b[0m\n\u001b[1;32m   1613\u001b[0m \u001b[0;34m\u001b[0m\u001b[0m\n",
      "\u001b[0;32m~/anaconda3/envs/tensorflow_gpu_env/lib/python3.8/site-packages/PIL/Image.py\u001b[0m in \u001b[0;36msave\u001b[0;34m(self, fp, format, **params)\u001b[0m\n\u001b[1;32m   2167\u001b[0m                 \u001b[0mfp\u001b[0m \u001b[0;34m=\u001b[0m \u001b[0mbuiltins\u001b[0m\u001b[0;34m.\u001b[0m\u001b[0mopen\u001b[0m\u001b[0;34m(\u001b[0m\u001b[0mfilename\u001b[0m\u001b[0;34m,\u001b[0m \u001b[0;34m\"r+b\"\u001b[0m\u001b[0;34m)\u001b[0m\u001b[0;34m\u001b[0m\u001b[0;34m\u001b[0m\u001b[0m\n\u001b[1;32m   2168\u001b[0m             \u001b[0;32melse\u001b[0m\u001b[0;34m:\u001b[0m\u001b[0;34m\u001b[0m\u001b[0;34m\u001b[0m\u001b[0m\n\u001b[0;32m-> 2169\u001b[0;31m                 \u001b[0mfp\u001b[0m \u001b[0;34m=\u001b[0m \u001b[0mbuiltins\u001b[0m\u001b[0;34m.\u001b[0m\u001b[0mopen\u001b[0m\u001b[0;34m(\u001b[0m\u001b[0mfilename\u001b[0m\u001b[0;34m,\u001b[0m \u001b[0;34m\"w+b\"\u001b[0m\u001b[0;34m)\u001b[0m\u001b[0;34m\u001b[0m\u001b[0;34m\u001b[0m\u001b[0m\n\u001b[0m\u001b[1;32m   2170\u001b[0m \u001b[0;34m\u001b[0m\u001b[0m\n\u001b[1;32m   2171\u001b[0m         \u001b[0;32mtry\u001b[0m\u001b[0;34m:\u001b[0m\u001b[0;34m\u001b[0m\u001b[0;34m\u001b[0m\u001b[0m\n",
      "\u001b[0;31mFileNotFoundError\u001b[0m: [Errno 2] No such file or directory: '/home/kimberly/deep_learning/datasets/NIH_chest_xrays/GAN/Fibrosis/ClassFib0-0.png'"
     ]
    },
    {
     "data": {
      "image/png": "[encoded data removed]",
      "text/plain": [
       "<Figure size 432x288 with 1 Axes>"
      ]
     },
     "metadata": {
      "needs_background": "light"
     },
     "output_type": "display_data"
    }
   ],
   "source": [
    "with tf.device('/gpu:0'):\n",
    "  if __name__ == '__main__':\n",
    "    epochs=100\n",
    "    batch_size=16\n",
    "    nih_xrays(epochs, batch_size)\n",
    "    \n",
    "    generator.save('saved_models/GAN_fib.h5')\n",
    "    discriminator.save('saved_models/GAN_fib.h5')\n",
    "\n",
    "    from sklearn import preprocessing\n",
    "\n",
    "    lb = preprocessing.LabelEncoder()  \n",
    "    #classes =['Cardiomegaly','Emphysema','Effusion','Hernia','Nodule','Pneumothorax','Atelectasis','Pleural_Thickening','Mass','Edema','Consolidation','Infiltration','Fibrosis','Pneumonia']\n",
    "    classes =['Fibrosis']\n",
    "    b_labels = lb.fit_transform(classes)\n",
    "    #print('ohe labels',OHE_labels)\n",
    "    # at the end, loop per class, per 1000 images\n",
    "    cnt = 0\n",
    "    fig, ax = plt.subplots()\n",
    "    for label in b_labels:\n",
    "        for num in range(100):\n",
    "            noise1 = np.random.normal(0, 1, (16, latent_dim))  \n",
    "            #print('noise 1',noise1)\n",
    "            img = generator.predict(noise1)\n",
    "            plt.imshow(img[cnt, :, :, 0], cmap='gray')\n",
    "            fig.savefig(root_dir+\"GAN/Fibrosis/ClassFib\" + str(label) + \"-\" + str(num) + \".png\")\n",
    "            plt.clf()\n"
   ]
  },
  {
   "cell_type": "code",
   "execution_count": null,
   "id": "7de617b8",
   "metadata": {
    "id": "7de617b8"
   },
   "outputs": [],
   "source": []
  }
 ],
 "metadata": {
  "accelerator": "GPU",
  "colab": {
   "collapsed_sections": [],
   "name": "GAN.ipynb",
   "provenance": []
  },
  "kernelspec": {
   "display_name": "Python 3",
   "language": "python",
   "name": "python3"
  },
  "language_info": {
   "codemirror_mode": {
    "name": "ipython",
    "version": 3
   },
   "file_extension": ".py",
   "mimetype": "text/x-python",
   "name": "python",
   "nbconvert_exporter": "python",
   "pygments_lexer": "ipython3",
   "version": "3.8.8"
  }
 },
 "nbformat": 4,
 "nbformat_minor": 5
}
